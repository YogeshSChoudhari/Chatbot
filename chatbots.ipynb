{
 "cells": [
  {
   "cell_type": "code",
   "execution_count": 9,
   "metadata": {},
   "outputs": [],
   "source": [
    "import os\n",
    "from dotenv import load_dotenv\n",
    "from langchain_groq import ChatGroq\n",
    "load_dotenv()\n",
    "\n",
    "groq_api_key = os.getenv('GROQ_API_KEY')"
   ]
  },
  {
   "cell_type": "code",
   "execution_count": 10,
   "metadata": {},
   "outputs": [
    {
     "data": {
      "text/plain": [
       "ChatGroq(client=<groq.resources.chat.completions.Completions object at 0x0000022DA6BAE670>, async_client=<groq.resources.chat.completions.AsyncCompletions object at 0x0000022DA6BB1220>, model_name='Gemma2-9b-It', model_kwargs={}, groq_api_key=SecretStr('**********'))"
      ]
     },
     "execution_count": 10,
     "metadata": {},
     "output_type": "execute_result"
    }
   ],
   "source": [
    "model=ChatGroq(model='Gemma2-9b-It', groq_api_key=groq_api_key)\n",
    "model\n"
   ]
  },
  {
   "cell_type": "code",
   "execution_count": 11,
   "metadata": {},
   "outputs": [],
   "source": [
    "from langchain_core.messages import HumanMessage, AIMessage\n",
    "response1=model.invoke([HumanMessage(content=\"Hi, This is Yogesh an AI Engineer at MasterCard\")])\n",
    "response1=response1.content"
   ]
  },
  {
   "cell_type": "code",
   "execution_count": 12,
   "metadata": {},
   "outputs": [
    {
     "data": {
      "text/plain": [
       "AIMessage(content=\"You told me your name is Yogesh and that you are an AI Engineer at MasterCard. 😊 \\n\\nIs there anything else you'd like to know or discuss?  I'm here to help!\\n\", additional_kwargs={}, response_metadata={'token_usage': {'completion_tokens': 45, 'prompt_tokens': 91, 'total_tokens': 136, 'completion_time': 0.081818182, 'prompt_time': 0.002678362, 'queue_time': 0.021169788, 'total_time': 0.084496544}, 'model_name': 'Gemma2-9b-It', 'system_fingerprint': 'fp_10c08bf97d', 'finish_reason': 'stop', 'logprobs': None}, id='run-e4ed0d4e-08d6-4a9e-a1ca-4b4c5c9855b8-0', usage_metadata={'input_tokens': 91, 'output_tokens': 45, 'total_tokens': 136})"
      ]
     },
     "execution_count": 12,
     "metadata": {},
     "output_type": "execute_result"
    }
   ],
   "source": [
    "response2 = model.invoke(\n",
    "    [HumanMessage(content=\"Hi, This is Yogesh an AI Engineer at MasterCard\"),\n",
    "    AIMessage(content=response1),\n",
    "    HumanMessage(content=\"Hi, What is my name and do I do?\")\n",
    "    ])\n",
    "response2"
   ]
  },
  {
   "cell_type": "code",
   "execution_count": 13,
   "metadata": {},
   "outputs": [],
   "source": [
    "from langchain_community.chat_message_histories import ChatMessageHistory\n",
    "from langchain_core.chat_history import BaseChatMessageHistory\n",
    "from langchain_core.runnables.history import RunnableWithMessageHistory\n",
    "\n",
    "store = {}\n",
    "\n",
    "def get_session_id(session_id: str)->BaseChatMessageHistory:\n",
    "    if session_id not in store:\n",
    "        store[session_id] = ChatMessageHistory()\n",
    "    return store[session_id]\n",
    "\n",
    "with_message_history = RunnableWithMessageHistory(model, get_session_id)\n"
   ]
  },
  {
   "cell_type": "code",
   "execution_count": null,
   "metadata": {},
   "outputs": [
    {
     "data": {
      "text/plain": [
       "AIMessage(content=\"Hello Yogesh, it's nice to meet you! \\n\\nAs an AI, I don't have personal experiences or affiliations like being an engineer at MasterCard.  \\n\\nWhat can I do for you today? Perhaps you have some questions about AI, need help with a coding task, or want to discuss the latest advancements in the field?  I'm here to help in any way I can. 😊  \\n\\n\", additional_kwargs={}, response_metadata={'token_usage': {'completion_tokens': 89, 'prompt_tokens': 20, 'total_tokens': 109, 'completion_time': 0.161818182, 'prompt_time': 9.883e-05, 'queue_time': 0.014912108, 'total_time': 0.161917012}, 'model_name': 'Gemma2-9b-It', 'system_fingerprint': 'fp_10c08bf97d', 'finish_reason': 'stop', 'logprobs': None}, id='run-6939d87d-447c-4907-a732-2199601fee44-0', usage_metadata={'input_tokens': 20, 'output_tokens': 89, 'total_tokens': 109})"
      ]
     },
     "execution_count": 14,
     "metadata": {},
     "output_type": "execute_result"
    }
   ],
   "source": [
    "config={\"session_id\": \"chat1\"}\n",
    "with_message_history.invoke(\n",
    "    [HumanMessage(content=\"Hi, This is Yogesh an AI Engineer at MasterCard\")],\n",
    "    config=config\n",
    ")"
   ]
  },
  {
   "cell_type": "code",
   "execution_count": 15,
   "metadata": {},
   "outputs": [
    {
     "data": {
      "text/plain": [
       "AIMessage(content='You told me your name is Yogesh. 😊  \\n\\nIs there anything else I can help you with?  \\n', additional_kwargs={}, response_metadata={'token_usage': {'completion_tokens': 26, 'prompt_tokens': 121, 'total_tokens': 147, 'completion_time': 0.047272727, 'prompt_time': 0.003678948, 'queue_time': 0.01131469, 'total_time': 0.050951675}, 'model_name': 'Gemma2-9b-It', 'system_fingerprint': 'fp_10c08bf97d', 'finish_reason': 'stop', 'logprobs': None}, id='run-d0cb5e14-85b1-4be6-bb0b-2d1e57e6bcb5-0', usage_metadata={'input_tokens': 121, 'output_tokens': 26, 'total_tokens': 147})"
      ]
     },
     "execution_count": 15,
     "metadata": {},
     "output_type": "execute_result"
    }
   ],
   "source": [
    "with_message_history.invoke(\n",
    "    [HumanMessage(content=\"What is my name?\")],\n",
    "    config=config)"
   ]
  },
  {
   "cell_type": "code",
   "execution_count": 17,
   "metadata": {},
   "outputs": [
    {
     "data": {
      "text/plain": [
       "\"I still don't know your name! \\n\\nYou'll have to tell me.  What's your name?  😄  \\n\""
      ]
     },
     "execution_count": 17,
     "metadata": {},
     "output_type": "execute_result"
    }
   ],
   "source": [
    "# change the session id using new config \n",
    "config2= {\"session_id\":\"chat2\"}\n",
    "response2=with_message_history.invoke(\n",
    "    [HumanMessage(content=\"What is my name?\")],\n",
    "    config=config2)\n",
    "response2.content"
   ]
  },
  {
   "cell_type": "markdown",
   "metadata": {},
   "source": [
    "## ChatBot with prompt template"
   ]
  },
  {
   "cell_type": "code",
   "execution_count": 28,
   "metadata": {},
   "outputs": [],
   "source": [
    "from langchain_core.prompts import ChatPromptTemplate, MessagesPlaceholder\n",
    "prompt=ChatPromptTemplate.from_messages(\n",
    "    [\n",
    "        (\"system\", \"You are helpful assistant. Answer questions best of your knowledge\"),\n",
    "        MessagesPlaceholder(variable_name=\"messages\")\n",
    "    ]\n",
    ")\n",
    "chain = prompt|model"
   ]
  },
  {
   "cell_type": "code",
   "execution_count": 29,
   "metadata": {},
   "outputs": [
    {
     "data": {
      "text/plain": [
       "AIMessage(content=\"Hello Yogesh! 👋 \\n\\nIt's nice to meet you.  \\n\\nHow can I help you today? 😊  I'm ready for any questions you have, or if you'd like to chat about something, I'm all ears! 👂 \\n\", additional_kwargs={}, response_metadata={'token_usage': {'completion_tokens': 59, 'prompt_tokens': 26, 'total_tokens': 85, 'completion_time': 0.107272727, 'prompt_time': 0.000220929, 'queue_time': 0.013311309, 'total_time': 0.107493656}, 'model_name': 'Gemma2-9b-It', 'system_fingerprint': 'fp_10c08bf97d', 'finish_reason': 'stop', 'logprobs': None}, id='run-b120b14b-e974-4e08-a318-3e3736df83f3-0', usage_metadata={'input_tokens': 26, 'output_tokens': 59, 'total_tokens': 85})"
      ]
     },
     "execution_count": 29,
     "metadata": {},
     "output_type": "execute_result"
    }
   ],
   "source": [
    "chain.invoke({\"messages\":[\n",
    "    HumanMessage(content=\"Hi I'm Yogesh\")\n",
    "]})"
   ]
  },
  {
   "cell_type": "code",
   "execution_count": 33,
   "metadata": {},
   "outputs": [
    {
     "data": {
      "text/plain": [
       "\"Hi Yogesh! 👋\\n\\nIt's great to meet you.  \\n\\nIs there anything you'd like to ask me or have me do? I'm here to help! 😊 \\n\\n\\n\""
      ]
     },
     "execution_count": 33,
     "metadata": {},
     "output_type": "execute_result"
    }
   ],
   "source": [
    "with_messge_history=RunnableWithMessageHistory(chain, get_session_id)\n",
    "config3={\"session_id\": \"chat3\"}\n",
    "response=with_messge_history.invoke(\n",
    "    HumanMessage(content=\"Hi I am yogesh\"), config=config3\n",
    ")\n",
    "response.content\n"
   ]
  },
  {
   "cell_type": "code",
   "execution_count": 38,
   "metadata": {},
   "outputs": [],
   "source": [
    "# Add more complexit adding one more input\n",
    "\n",
    "prompt = ChatPromptTemplate.from_messages([\n",
    "    (\"system\", \"You are a helpful assistant. Answer in {language}\"),\n",
    "    MessagesPlaceholder(variable_name=\"messages\")]\n",
    "    )\n",
    "\n",
    "chain = prompt|model\n"
   ]
  },
  {
   "cell_type": "code",
   "execution_count": 41,
   "metadata": {},
   "outputs": [
    {
     "data": {
      "text/plain": [
       "'नमस्कार, योगेश! मी तुमच्या मदतीसाठी येथे आहे. काय मदत हवी आहे? 😊  \\n'"
      ]
     },
     "execution_count": 41,
     "metadata": {},
     "output_type": "execute_result"
    }
   ],
   "source": [
    "\n",
    "response = chain.invoke({\"messages\":[HumanMessage(content=\"HI I am Yogesh\")],\n",
    "                        \"language\": \"Marathi\"})\n",
    "response.content"
   ]
  },
  {
   "cell_type": "code",
   "execution_count": 45,
   "metadata": {},
   "outputs": [
    {
     "data": {
      "text/plain": [
       "'नमस्कार योगेश, मी तुमचा मदत करण्यासाठी येथे आहे. तुम्हाला काय मदत हवी आहे? \\n'"
      ]
     },
     "execution_count": 45,
     "metadata": {},
     "output_type": "execute_result"
    }
   ],
   "source": [
    "with_message_history=RunnableWithMessageHistory(\n",
    "    chain, get_session_id,\n",
    "    input_messages_key=\"messages\"\n",
    ")\n",
    "\n",
    "config4 = {\"session_id\": \"chat4\"}\n",
    "\n",
    "response = with_message_history.invoke({\"messages\":[HumanMessage(content=\"HI I am Yogesh\")],                      \n",
    "        \"language\": \"Marathi\"}, config=config4)\n",
    "response.content"
   ]
  },
  {
   "cell_type": "code",
   "execution_count": null,
   "metadata": {},
   "outputs": [],
   "source": []
  }
 ],
 "metadata": {
  "kernelspec": {
   "display_name": "base",
   "language": "python",
   "name": "python3"
  },
  "language_info": {
   "codemirror_mode": {
    "name": "ipython",
    "version": 3
   },
   "file_extension": ".py",
   "mimetype": "text/x-python",
   "name": "python",
   "nbconvert_exporter": "python",
   "pygments_lexer": "ipython3",
   "version": "3.9.12"
  }
 },
 "nbformat": 4,
 "nbformat_minor": 2
}
